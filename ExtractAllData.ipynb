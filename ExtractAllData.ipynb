{
 "cells": [
  {
   "cell_type": "markdown",
   "metadata": {},
   "source": [
    "### **Install Dependencies**"
   ]
  },
  {
   "cell_type": "code",
   "execution_count": 1,
   "metadata": {
    "scrolled": true
   },
   "outputs": [],
   "source": [
    "# %pip install -r requirements.txt"
   ]
  },
  {
   "cell_type": "markdown",
   "metadata": {},
   "source": [
    "### **Actual Scraping**"
   ]
  },
  {
   "cell_type": "code",
   "execution_count": 1,
   "metadata": {},
   "outputs": [
    {
     "name": "stdout",
     "output_type": "stream",
     "text": [
      "---------------------------------------------\n",
      "       MATCHUPS CAN BE Bo1, Bo3 or Bo5\n",
      "---------------------------------------------\n",
      "\n",
      "Event: ESL Pro League Season 21\n",
      "Number of matchups: 40\n",
      "\n",
      "Event: Thunderpick World Championship 2024 Finals\n",
      "Number of matchups: 4\n",
      "\n",
      "\n",
      "Total number of matchups: 44\n",
      "---------------------------------------------\n"
     ]
    },
    {
     "name": "stderr",
     "output_type": "stream",
     "text": [
      "Fetching Match IDs: 100%|████████████████████████████████████████| 44/44 [04:34<00:00,  6.23s/match]\n",
      "Downloading .rar   : 100%|███████████████████████████████████████████████████████████| 44/44 [14:32]\n"
     ]
    },
    {
     "name": "stdout",
     "output_type": "stream",
     "text": [
      "Total .rar files to extract: 44\n",
      "Starting extraction...\n",
      "Extracting: E7694_M92181_thunderpick-world-championship-2024-finals-heroic-vs-og-bo3-FmAKl9oMve4Dwyu4DdRqvx.rar\n",
      "Extracting: E7694_M92187_thunderpick-world-championship-2024-finals-3dmax-vs-the-mongolz-bo3-upBvDFSuw-OdQOd1QWNdCe.rar\n",
      "Extracting: E7694_M92202_thunderpick-world-championship-2024-finals-og-vs-3dmax-bo3-80mNy-iuzh7oRGd6fM6sGk.rar\n",
      "Extracting: E7694_M92212_thunderpick-world-championship-2024-finals-heroic-vs-the-mongolz-bo5-sTU-jFJxryBEQ3ms0jW_II.rar\n",
      "Extracting: E8292_M94971_esl-pro-league-season-21-spirit-vs-tyloo-bo3-Tm1kCPPm_rgV_AdICwh4UB.rar\n",
      "Extracting: E8292_M94973_esl-pro-league-season-21-vitality-vs-mibr-bo3-vjmAHfXA4PQfROTmirSCCF.rar\n",
      "Extracting: E8292_M94978_esl-pro-league-season-21-the-mongolz-vs-gamerlegion-bo3-cVvAtea3a2jqGyYHg8g5GI.rar\n",
      "Extracting: E8292_M94979_esl-pro-league-season-21-eternal-fire-vs-3dmax-bo3-n92j1X5nWKaSf3a0PZ-lWq.rar\n",
      "Extracting: E8292_M94987_esl-pro-league-season-21-natus-vincere-vs-saw-bo3-PeKJ4V-uBfKnBCIB8ocl58.rar\n",
      "Extracting: E8292_M94994_esl-pro-league-season-21-mouz-vs-furia-bo3-BKGRWkyfRh7Bo8KhpXS3Tc.rar\n",
      "Extracting: E8292_M94997_esl-pro-league-season-21-g2-vs-pain-bo3-CH2M9HysLDAgQQ2LK1OEKL.rar\n",
      "Extracting: E8292_M95008_esl-pro-league-season-21-falcons-vs-liquid-bo3-2UFRkADcYr8yzKfwCRAb14.rar\n",
      "Extracting: E8292_M95032_esl-pro-league-season-21-eternal-fire-vs-mibr-bo3-5c0XDtyDjecC4DbnFrXdzE.rar\n",
      "Extracting: E8292_M95036_esl-pro-league-season-21-natus-vincere-vs-tyloo-bo3-u9zlDGjnIy0eSohnO5P-Xx.rar\n",
      "Extracting: E8292_M95045_esl-pro-league-season-21-gamerlegion-vs-pain-bo3-zcuZjSa9VUSMkJoK5k8I3c.rar\n",
      "Extracting: E8292_M95049_esl-pro-league-season-21-g2-vs-the-mongolz-bo3-7apyzm7ukDG33qr0B-ny2V.rar\n",
      "Extracting: E8292_M95056_esl-pro-league-season-21-mouz-vs-falcons-bo3-yayytstbo8IxTFlUpfbUPR.rar\n",
      "Extracting: E8292_M95059_esl-pro-league-season-21-vitality-vs-3dmax-bo3-SFueR4Yd1u5-bIhh5XKwOq.rar\n",
      "Extracting: E8292_M95068_esl-pro-league-season-21-liquid-vs-furia-bo3-A6x37QRcgJuTWNtQ7nobC4.rar\n",
      "Extracting: E8292_M95069_esl-pro-league-season-21-spirit-vs-saw-bo3-_1uD70D_aUzOV8qHt5kBr9.rar\n",
      "Extracting: E8292_M95111_esl-pro-league-season-21-falcons-vs-3dmax-bo3-XHM3Ovc8L9TfLFTYQFrGdT.rar\n",
      "Extracting: E8292_M95116_esl-pro-league-season-21-gamerlegion-vs-tyloo-bo3-0g9mXt3FIxC8XzjXNUjRL7.rar\n",
      "Extracting: E8292_M95118_esl-pro-league-season-21-g2-vs-saw-bo3-mYM9DvqwBzOYzUiWtsWnmT.rar\n",
      "Extracting: E8292_M95122_esl-pro-league-season-21-spirit-vs-the-mongolz-bo3-Fq34aEGuZ8rgDkuw_nCcE0.rar\n",
      "Extracting: E8292_M95126_esl-pro-league-season-21-pain-vs-natus-vincere-bo3-Wng9QucRUagRRALDQATcaH.rar\n",
      "Extracting: E8292_M95128_esl-pro-league-season-21-vitality-vs-mouz-bo3-Ko5VJMvyF1OsCx2TbVU9pb.rar\n",
      "Extracting: E8292_M95139_esl-pro-league-season-21-liquid-vs-eternal-fire-bo3-CNOyWRu1TC6SAE5CfCGIW3.rar\n",
      "Extracting: E8292_M95145_esl-pro-league-season-21-furia-vs-mibr-bo3-1x0PnkwTNyxoKAJfPwIvNd.rar\n",
      "Extracting: E8292_M95169_esl-pro-league-season-21-the-mongolz-vs-3dmax-bo3-WYBJIFvDVvw0b9K6U7EeKz.rar\n",
      "Extracting: E8292_M95174_esl-pro-league-season-21-saw-vs-gamerlegion-bo3-i3GKnlERTADUjBFGAUMY9r.rar\n",
      "Extracting: E8292_M95176_esl-pro-league-season-21-mouz-vs-liquid-bo3-9v1WXdmzbeO2q7iD5Nu_mP.rar\n",
      "Extracting: E8292_M95180_esl-pro-league-season-21-eternal-fire-vs-pain-bo3-AZpFufawYqRfOJB51VOcsl.rar\n",
      "Extracting: E8292_M95187_esl-pro-league-season-21-g2-vs-natus-vincere-bo3-ynBZu_r4fNTcnFeLJePeyt.rar\n",
      "Extracting: E8292_M95197_esl-pro-league-season-21-falcons-vs-furia-bo3-T_ZfvS9m7mOLbvr4ptw27p.rar\n",
      "Extracting: E8292_M95216_esl-pro-league-season-21-liquid-vs-3dmax-bo3-k7r_vGkiL4eRhxKdRPUZx1.rar\n",
      "Extracting: E8292_M95222_esl-pro-league-season-21-falcons-vs-eternal-fire-bo3-phsUuIPkfmDIZj0rrTDsQ4.rar\n",
      "Extracting: E8292_M95229_esl-pro-league-season-21-g2-vs-gamerlegion-bo3-NeDDj2I6FJz4dj3sgLsEYT.rar\n",
      "Extracting: E8292_M95268_esl-pro-league-season-21-eternal-fire-vs-spirit-bo3--UuyIAeKfzvPQul8FORRZR.rar\n",
      "Extracting: E8292_M95274_esl-pro-league-season-21-mouz-vs-g2-bo3-8h26qVX7FMcJYCdzpuA_Gz.rar\n",
      "Extracting: E8292_M95286_esl-pro-league-season-21-vitality-vs-liquid-bo3-TDZ0EQEOaQDkSffhvCw7ov.rar\n",
      "Extracting: E8292_M95292_esl-pro-league-season-21-natus-vincere-vs-the-mongolz-bo3-HfdEOFUxlExeO-ODc77jPR.rar\n",
      "Extracting: E8292_M95323_esl-pro-league-season-21-spirit-vs-mouz-bo3-URCNkJQvlSMoueiEGhvvOc.rar\n",
      "Extracting: E8292_M95332_esl-pro-league-season-21-vitality-vs-the-mongolz-bo3-7VmOOQFfF_Xgx4vOG4cYIY.rar\n",
      "Extracting: E8292_M95350_esl-pro-league-season-21-mouz-vs-vitality-bo5-RwgqrXEuhDJTxQHhSIn72X.rar\n",
      "\n",
      "---------------------------------------------\n"
     ]
    },
    {
     "name": "stderr",
     "output_type": "stream",
     "text": [
      "Processing ESL Pro League Season 21: 100%|███████████████████████████████████████████| 98/98 [00:00]\n",
      "Processing Thunderpick World Championship 2024 Finals: 100%|█████████████████████████| 11/11 [00:00]\n"
     ]
    }
   ],
   "source": [
    "from ExtractAllData._functions.get_matches_url import get_matches_url\n",
    "from ExtractAllData._functions.get_match_id import get_match_ids\n",
    "from ExtractAllData._functions.get_request import get_request\n",
    "from ExtractAllData._functions.download_files import download_files\n",
    "from ExtractAllData._functions.unrar import unrar\n",
    "from ExtractAllData._functions.extrair_dados import run_csda_on_demos\n",
    "from ExtractAllData._ETL.merge_files import merge_csv_files\n",
    "from ExtractAllData._functions.chromelib import pd\n",
    "import os\n",
    "pd.set_option('display.max_columns', None)  # Show all columns\n",
    "pd.set_option('display.max_rows', 10)     # Show all rows\n",
    "pd.set_option('display.width', None)        # No width limit\n",
    "pd.set_option('display.max_colwidth', None) # No column width limit\n",
    "\n",
    "# # -------------------------------------------------------------------------\n",
    "# #   The ID of each event can be found in HLTV in either of the links below\n",
    "# #   For example: \n",
    "# #   https://www.hltv.org/events/7909/blast-bounty-2025-season-1-finals\n",
    "# #   https://www.hltv.org/results?event=7909\n",
    "# # -------------------------------------------------------------------------\n",
    "\n",
    "id_event = [8292, 7694]\n",
    "# id_event = [ 7694 ]\n",
    "# id_event = [ 7904, 8292,  ]\n",
    "\n",
    "# id_event = [7904, 8292, 8034, 7909, 7903, 7524, 7865, 7557, 7556, 7441, 7993, 7436, 7554, 7732, 7485, 7438, 7755, 7148, 7553, 7577, 7435, 7551, 7552, 7499]\n",
    "\n",
    "root = os.path.join(os.getcwd(), 'ExtractAllData') # Get the root directory\n",
    "\n",
    "tournaments_df = get_matches_url(*id_event, root=root)\n",
    "\n",
    "tournaments_df = get_match_ids(tournaments_df)\n",
    "\n",
    "tournaments_df = get_request(tournaments_df)\n",
    "\n",
    "tournaments_df = download_files(tournaments_df)\n",
    "\n",
    "tournaments_df = unrar(tournaments_df)\n",
    "\n",
    "tournaments_df = run_csda_on_demos(tournaments_df)\n",
    "\n",
    "tournaments_df.to_csv('tournaments.csv')\n"
   ]
  },
  {
   "cell_type": "code",
   "execution_count": null,
   "metadata": {},
   "outputs": [],
   "source": [
    "from ExtractAllData._functions.get_matches_url import get_matches_url\n",
    "from ExtractAllData._functions.get_match_id import get_match_ids\n",
    "from ExtractAllData._functions.get_request import get_request\n",
    "from ExtractAllData._functions.download_files import download_files\n",
    "from ExtractAllData._functions.unrar import unrar\n",
    "from ExtractAllData._functions.extrair_dados import run_csda_on_demos\n",
    "from ExtractAllData._ETL.merge_files import merge_csv_files\n",
    "from ExtractAllData._functions.chromelib import pd\n",
    "import os\n",
    "pd.set_option('display.max_columns', None)  # Show all columns\n",
    "pd.set_option('display.max_rows', 10)     # Show all rows\n",
    "pd.set_option('display.width', None)        # No width limit\n",
    "pd.set_option('display.max_colwidth', None) # No column width limit\n",
    "\n",
    "tournaments_df = pd.read_csv('tournaments.csv')\n",
    "\n",
    "# def clean_data(tournaments_df):\n",
    "#     # Drop columns: 'checksum', 'demo_path', 'demo_filename'\n",
    "#     tournaments_df = tournaments_df.drop(columns=['checksum', 'demo_path', 'demo_filename'])\n",
    "#     return tournaments_df\n",
    "\n",
    "# tournaments_df_clean = clean_data(tournaments_df.copy())\n",
    "# tournaments_df_clean.head()\n",
    "\n",
    "tournaments_df = unrar(tournaments_df)\n",
    "\n",
    "tournaments_df = run_csda_on_demos(tournaments_df)\n",
    "\n",
    "display(tournaments_df)"
   ]
  },
  {
   "cell_type": "code",
   "execution_count": null,
   "metadata": {},
   "outputs": [],
   "source": [
    "# Merges the csv files\n",
    "match_data = merge_csv_files(tournaments_df)\n",
    "\n",
    "clutches_df = match_data['_clutches']\n",
    "kills_df = match_data['_kills']\n",
    "matches_df = match_data['_match']\n",
    "players_df = match_data['_players']\n",
    "players_economy_df = match_data['_players_economy']\n",
    "rounds_df = match_data['_rounds']\n",
    "teams_df = match_data['_teams']\n",
    "\n",
    "\n",
    "\n",
    "output_dir = os.path.join(os.getcwd(), \"ExtractAllData\" ,\"tournaments_tables\")\n",
    "os.makedirs(output_dir, exist_ok=True)\n",
    "\n",
    "dataframes = {\n",
    "    'raw_tournaments': tournaments_df,\n",
    "    'raw_matches': matches_df,\n",
    "    'raw_teams': teams_df, \n",
    "    'raw_kills': kills_df,\n",
    "    'raw_players': players_df,\n",
    "    'raw_rounds': rounds_df,\n",
    "    'raw_players_economy': players_economy_df,\n",
    "    'raw_clutches': clutches_df\n",
    "}\n",
    "\n",
    "for name, df in dataframes.items():\n",
    "    print(f\"\\n{name}:\")\n",
    "    display(df)\n",
    "    output_path = os.path.join(output_dir, f\"{name}.csv\")\n",
    "    df.to_csv(output_path, index=False)\n",
    "    print(f\"Saved {output_path}\")\n",
    "\n",
    "\n"
   ]
  },
  {
   "cell_type": "code",
   "execution_count": null,
   "metadata": {},
   "outputs": [],
   "source": []
  }
 ],
 "metadata": {
  "kernelspec": {
   "display_name": ".venv",
   "language": "python",
   "name": "python3"
  },
  "language_info": {
   "codemirror_mode": {
    "name": "ipython",
    "version": 3
   },
   "file_extension": ".py",
   "mimetype": "text/x-python",
   "name": "python",
   "nbconvert_exporter": "python",
   "pygments_lexer": "ipython3",
   "version": "3.12.4"
  }
 },
 "nbformat": 4,
 "nbformat_minor": 4
}
