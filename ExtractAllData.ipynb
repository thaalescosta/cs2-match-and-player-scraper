{
 "cells": [
  {
   "cell_type": "markdown",
   "metadata": {},
   "source": [
    "### **Install Dependencies**"
   ]
  },
  {
   "cell_type": "code",
   "execution_count": 1,
   "metadata": {
    "scrolled": true
   },
   "outputs": [],
   "source": [
    "# %pip install -r requirements.txt"
   ]
  },
  {
   "cell_type": "markdown",
   "metadata": {},
   "source": [
    "### **Actual Scraping**"
   ]
  },
  {
   "cell_type": "code",
   "execution_count": null,
   "metadata": {},
   "outputs": [],
   "source": [
    "from ExtractAllData._functions.get_matches_url import get_matches_url\n",
    "from ExtractAllData._functions.get_match_id import get_match_ids\n",
    "from ExtractAllData._functions.get_request import get_request\n",
    "from ExtractAllData._functions.download_files import download_files\n",
    "from ExtractAllData._functions.unrar import unrar\n",
    "from ExtractAllData._functions.extrair_dados import run_csda_on_demos\n",
    "from ExtractAllData._ETL.merge_files import merge_csv_files\n",
    "from ExtractAllData._functions.chromelib import pd\n",
    "import os\n",
    "pd.set_option('display.max_columns', None)  # Show all columns\n",
    "pd.set_option('display.max_rows', 10)     # Show all rows\n",
    "pd.set_option('display.width', None)        # No width limit\n",
    "pd.set_option('display.max_colwidth', None) # No column width limit\n",
    "\n",
    "# # -------------------------------------------------------------------------\n",
    "# #   The ID of each event can be found in HLTV in either of the links below\n",
    "# #   For example: \n",
    "# #   https://www.hltv.org/events/7909/blast-bounty-2025-season-1-finals\n",
    "# #   https://www.hltv.org/results?event=7909\n",
    "# # -------------------------------------------------------------------------\n",
    "\n",
    "id_event = [8292, 7694 , 7909]\n",
    "# id_event = [ 7694 ]\n",
    "# id_event = [ 7904, 8292,  ]\n",
    "\n",
    "# id_event = [7904, 8292, 8034, 7909, 7903, 7524, 7865, 7557, 7556, 7441, 7993, 7436, 7554, 7732, 7485, 7438, 7755, 7148, 7553, 7577, 7435, 7551, 7552, 7499]\n",
    "\n",
    "root = os.path.join(os.getcwd(), 'ExtractAllData') # Get the root directory\n",
    "\n",
    "tournaments_df = get_matches_url(*id_event, root=root)\n",
    "\n",
    "tournaments_df = get_match_ids(tournaments_df)\n",
    "\n",
    "tournaments_df = get_request(tournaments_df)\n",
    "\n",
    "tournaments_df = download_files(tournaments_df)\n"
   ]
  },
  {
   "cell_type": "code",
   "execution_count": null,
   "metadata": {},
   "outputs": [],
   "source": [
    "\n",
    "tournaments_df = unrar(tournaments_df)\n",
    "\n",
    "tournaments_df = run_csda_on_demos(tournaments_df)\n",
    "\n",
    "tournaments_df.to_csv('tournaments.csv')\n",
    "\n",
    "display(tournaments_df)"
   ]
  },
  {
   "cell_type": "code",
   "execution_count": null,
   "metadata": {},
   "outputs": [],
   "source": [
    "# Merges the csv files\n",
    "match_data = merge_csv_files(tournaments_df)\n",
    "\n",
    "clutches_df = match_data['_clutches']\n",
    "kills_df = match_data['_kills']\n",
    "matches_df = match_data['_match']\n",
    "players_df = match_data['_players']\n",
    "players_economy_df = match_data['_players_economy']\n",
    "rounds_df = match_data['_rounds']\n",
    "teams_df = match_data['_teams']\n",
    "\n",
    "\n",
    "\n",
    "output_dir = os.path.join(os.getcwd(), \"ExtractAllData\" ,\"tournaments_tables\")\n",
    "os.makedirs(output_dir, exist_ok=True)\n",
    "\n",
    "dataframes = {\n",
    "    'raw_tournaments': tournaments_df,\n",
    "    'raw_matches': matches_df,\n",
    "    'raw_teams': teams_df, \n",
    "    'raw_kills': kills_df,\n",
    "    'raw_players': players_df,\n",
    "    'raw_rounds': rounds_df,\n",
    "    'raw_players_economy': players_economy_df,\n",
    "    'raw_clutches': clutches_df\n",
    "}\n",
    "\n",
    "for name, df in dataframes.items():\n",
    "    print(f\"\\n{name}:\")\n",
    "    display(df)\n",
    "    output_path = os.path.join(output_dir, f\"{name}.csv\")\n",
    "    df.to_csv(output_path, index=False)\n",
    "    print(f\"Saved {output_path}\")\n",
    "\n",
    "\n"
   ]
  },
  {
   "cell_type": "code",
   "execution_count": null,
   "metadata": {},
   "outputs": [],
   "source": []
  }
 ],
 "metadata": {
  "kernelspec": {
   "display_name": ".venv",
   "language": "python",
   "name": "python3"
  },
  "language_info": {
   "codemirror_mode": {
    "name": "ipython",
    "version": 3
   },
   "file_extension": ".py",
   "mimetype": "text/x-python",
   "name": "python",
   "nbconvert_exporter": "python",
   "pygments_lexer": "ipython3",
   "version": "3.12.4"
  }
 },
 "nbformat": 4,
 "nbformat_minor": 4
}
