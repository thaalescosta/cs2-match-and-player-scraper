{
 "cells": [
  {
   "cell_type": "markdown",
   "metadata": {},
   "source": [
    "### **SCRAPING THE PLAYERS/TEAMS INFO FOR THE TOP X HLTV TEAMS** ##"
   ]
  },
  {
   "cell_type": "code",
   "execution_count": null,
   "metadata": {},
   "outputs": [],
   "source": [
    "from ExtractPlayerData._functions.get_team_data import get_team_data\n",
    "from ExtractPlayerData._functions.get_player_photos import get_player_photos\n",
    "from ExtractPlayerData._functions.download_photos import download_photos\n",
    "import pandas as pd\n",
    "import os\n",
    "\n",
    "# pd.set_option('display.max_columns', None)  # Show all columns\n",
    "# pd.set_option('display.width', None)  # Disable line wrapping\n",
    "# pd.set_option('display.max_colwidth', None)  # Show full column content\n",
    "\n",
    "pd.reset_option('display.max_rows')\n",
    "pd.reset_option('display.max_columns') \n",
    "pd.reset_option('display.width')\n",
    "pd.reset_option('display.max_colwidth')\n",
    "\n",
    "\n",
    "topN = 50 ## GET THE PLAYERS/TEAMS INFO FOR THE TOP X HLTV TEAMS ## \n",
    "\n",
    "url = \"https://www.hltv.org/ranking/teams/2025/march/3\"\n",
    "\n",
    "pd.set_option('display.max_columns', None)  # Show all columns\n",
    "pd.set_option('display.width', None)  # Disable line wrapping\n",
    "pd.set_option('display.max_colwidth', None)  # Show full column content\n",
    "\n",
    "players_data = get_team_data(url, topN)\n",
    "\n",
    "players_data = get_player_photos(players_data)\n",
    "\n",
    "players_data = download_photos(players_data)"
   ]
  },
  {
   "cell_type": "code",
   "execution_count": null,
   "metadata": {},
   "outputs": [],
   "source": [
    "players_data.to_csv(os.path.join(\"ExtractPlayerData\", \"players_data.csv\"), index=False, encoding='utf-8')\n",
    "\n",
    "photo_players_path = os.path.join(os.getcwd(), \"ExtractPlayerData\", \"photo_players\")\n",
    "print(f'\\nThe flag and players PNGs are saved in:\\n{photo_players_path}')\n",
    "players_data.head()"
   ]
  }
 ],
 "metadata": {
  "kernelspec": {
   "display_name": ".venv",
   "language": "python",
   "name": "python3"
  },
  "language_info": {
   "codemirror_mode": {
    "name": "ipython",
    "version": 3
   },
   "file_extension": ".py",
   "mimetype": "text/x-python",
   "name": "python",
   "nbconvert_exporter": "python",
   "pygments_lexer": "ipython3",
   "version": "3.13.2"
  }
 },
 "nbformat": 4,
 "nbformat_minor": 2
}
